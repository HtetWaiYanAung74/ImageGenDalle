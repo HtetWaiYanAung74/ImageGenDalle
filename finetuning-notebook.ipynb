{
 "cells": [
  {
   "cell_type": "code",
   "execution_count": 2,
   "metadata": {},
   "outputs": [],
   "source": [
    "# Bringing in the necessary libraries\n",
    "import os\n",
    "import json\n",
    "import pandas as pd"
   ]
  },
  {
   "cell_type": "code",
   "execution_count": 3,
   "metadata": {},
   "outputs": [
    {
     "data": {
      "text/html": [
       "<div>\n",
       "<style scoped>\n",
       "    .dataframe tbody tr th:only-of-type {\n",
       "        vertical-align: middle;\n",
       "    }\n",
       "\n",
       "    .dataframe tbody tr th {\n",
       "        vertical-align: top;\n",
       "    }\n",
       "\n",
       "    .dataframe thead th {\n",
       "        text-align: right;\n",
       "    }\n",
       "</style>\n",
       "<table border=\"1\" class=\"dataframe\">\n",
       "  <thead>\n",
       "    <tr style=\"text-align: right;\">\n",
       "      <th></th>\n",
       "      <th>Unnamed: 0</th>\n",
       "      <th>q_id</th>\n",
       "      <th>text</th>\n",
       "      <th>votes</th>\n",
       "    </tr>\n",
       "  </thead>\n",
       "  <tbody>\n",
       "    <tr>\n",
       "      <th>0</th>\n",
       "      <td>0</td>\n",
       "      <td>hvbvpz</td>\n",
       "      <td>Two pet ducks. You may be tempted to go for on...</td>\n",
       "      <td>2359.0</td>\n",
       "    </tr>\n",
       "    <tr>\n",
       "      <th>1</th>\n",
       "      <td>1</td>\n",
       "      <td>hvbvpz</td>\n",
       "      <td>Nice try Jeff Bezos</td>\n",
       "      <td>764.0</td>\n",
       "    </tr>\n",
       "    <tr>\n",
       "      <th>2</th>\n",
       "      <td>2</td>\n",
       "      <td>hvbvpz</td>\n",
       "      <td>A curved shower rod. Seriously. $10 for a tens...</td>\n",
       "      <td>1525.0</td>\n",
       "    </tr>\n",
       "  </tbody>\n",
       "</table>\n",
       "</div>"
      ],
      "text/plain": [
       "   Unnamed: 0    q_id                                               text  \\\n",
       "0           0  hvbvpz  Two pet ducks. You may be tempted to go for on...   \n",
       "1           1  hvbvpz                                Nice try Jeff Bezos   \n",
       "2           2  hvbvpz  A curved shower rod. Seriously. $10 for a tens...   \n",
       "\n",
       "    votes  \n",
       "0  2359.0  \n",
       "1   764.0  \n",
       "2  1525.0  "
      ]
     },
     "execution_count": 3,
     "metadata": {},
     "output_type": "execute_result"
    }
   ],
   "source": [
    "# Reading in the answers\n",
    "\n",
    "df_answers = pd.read_csv('reddit_answers_big.csv', sep=';')\n",
    "\n",
    "df_answers.head(3)"
   ]
  },
  {
   "cell_type": "code",
   "execution_count": 4,
   "metadata": {},
   "outputs": [],
   "source": [
    "# Grabbing the top answers\n",
    "df_top_votes = df_answers.groupby('q_id')['votes'].idxmax()\n",
    "df_top_answers = df_answers.loc[df_top_votes]\n",
    "\n",
    "df_top_answers.rename(columns={'text': 'answer'}, inplace=True)\n",
    "df_top_answers.rename(columns={'q_id': 'iq'}, inplace=True)\n",
    "df_top_answers.rename(columns={'votes': 'answer_votes'}, inplace=True)"
   ]
  },
  {
   "cell_type": "code",
   "execution_count": null,
   "metadata": {},
   "outputs": [],
   "source": []
  },
  {
   "cell_type": "code",
   "execution_count": null,
   "metadata": {},
   "outputs": [],
   "source": []
  }
 ],
 "metadata": {
  "kernelspec": {
   "display_name": "Python 3",
   "language": "python",
   "name": "python3"
  },
  "language_info": {
   "codemirror_mode": {
    "name": "ipython",
    "version": 3
   },
   "file_extension": ".py",
   "mimetype": "text/x-python",
   "name": "python",
   "nbconvert_exporter": "python",
   "pygments_lexer": "ipython3",
   "version": "3.11.9"
  }
 },
 "nbformat": 4,
 "nbformat_minor": 2
}
